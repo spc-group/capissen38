{
 "cells": [
  {
   "cell_type": "code",
   "execution_count": 126,
   "metadata": {},
   "outputs": [],
   "source": [
    "import re\n",
    "import pandas as pd\n",
    "\n",
    "from energy_ranges import (\n",
    "    ERange,\n",
    "    KRange,\n",
    "    merge_ranges,\n",
    "    wavenumber_to_energy,\n",
    ")"
   ]
  },
  {
   "cell_type": "markdown",
   "metadata": {},
   "source": [
    "# Dev"
   ]
  },
  {
   "cell_type": "code",
   "execution_count": 141,
   "metadata": {},
   "outputs": [],
   "source": [
    "def clean_column_names(columns):\n",
    "    # Convert to lowercase, replace spaces with underscores, and remove non-alphanumeric characters\n",
    "    return [re.sub(r'[^\\w]', '', col.lower().replace(' ', '_')) if isinstance(col, str) else col for col in columns]\n",
    "\n",
    "\n",
    "def convert_energy_range(energy_range_str):\n",
    "    \"\"\"Converts the energy range string into a list of numeric values, applying convert_k_to_E where needed.\"\"\"\n",
    "    energy_list = []\n",
    "    for item in energy_range_str.split():\n",
    "        if 'k' in item:\n",
    "            # Remove the 'k' and apply the convert_k_to_E function\n",
    "            k = float(item.replace('k', ''))\n",
    "            E = wavenumber_to_energy(k)\n",
    "            energy_list.append(E)\n",
    "        else:\n",
    "            # Convert to float for other values\n",
    "            energy_list.append(float(item))\n",
    "    return energy_list\n",
    "\n",
    "def convert_energy_steps(energy_steps_str):\n",
    "    \"\"\"Converts the energy steps string into a list, applying E_step_to_k_step where needed.\"\"\"\n",
    "    energy_steps_list = []\n",
    "    for item in energy_steps_str.split():\n",
    "        if 'k' in item:\n",
    "            value = float(item.replace('k', ''))\n",
    "            energy_steps_list.append(value)\n",
    "        else:\n",
    "            # Convert to float for other values\n",
    "            energy_steps_list.append(float(item))\n",
    "    return energy_steps_list\n",
    "\n",
    "def check_wheel_type(file_name, printit=True):\n",
    "    # Extract the wheel type from the first row, first column\n",
    "    wheel_type = pd.read_excel(file_name, header=None).iloc[0, 0]\n",
    "    if printit:\n",
    "        print(\"wheel_type: \", wheel_type)\n",
    "    return wheel_type\n",
    "\n",
    "def validate_data(df):\n",
    "    validated_df = df.copy()\n",
    "\n",
    "    # Convert 'Yes' to True and 'No' to False in specific columns\n",
    "    yes_no_columns = ['measure_this_slot', 'is_standard']\n",
    "    for col in yes_no_columns:\n",
    "        if col in validated_df.columns:\n",
    "            validated_df[col] = validated_df[col].map({'Yes': True, 'No': False})\n",
    "\n",
    "    # Ensure these columns are string types\n",
    "    string_columns = ['file_name', 'plotting_mode', 'element_symbol', 'sample_name', 'absorption_edge']\n",
    "    validated_df[string_columns] = validated_df[string_columns].astype(str)\n",
    "\n",
    "    # Ensure these columns are integer types, coerce invalid entries to NaN\n",
    "    int_columns = ['note', 'kweight', 'detector_x', 'sample_x', 'sample_y', \n",
    "                   'slit_width', 'slit_height']\n",
    "    validated_df[int_columns] = validated_df[int_columns].apply(pd.to_numeric, errors='coerce', downcast='integer')\n",
    "\n",
    "    # Ensure these columns are float types, coerce invalid entries to NaN\n",
    "    float_columns = ['integration_times', 'detector_x', 'sample_x', 'sample_y', \n",
    "                     'slit_width', 'slit_height']\n",
    "    validated_df[float_columns] = validated_df[float_columns].apply(pd.to_numeric, errors='coerce')\n",
    "\n",
    "    # Convert energy_range strings into energy list using the previously defined convert_energy_range function\n",
    "    if 'energy_range' in validated_df.columns:\n",
    "        validated_df['energy_range'] = validated_df['energy_range'].apply(convert_energy_range)\n",
    "\n",
    "    # Convert energy_steps strings into energy step list using the previously defined convert_energy_steps function\n",
    "    if 'energy_steps' in validated_df.columns:\n",
    "        validated_df['energy_steps'] = validated_df['energy_steps'].apply(convert_energy_steps)\n",
    "\n",
    "    # Validate that plotting_mode is either 'transmission' or 'fluorescence'\n",
    "    if 'plotting_mode' in validated_df.columns:\n",
    "        valid_modes = {'transmission', 'fluorescence'}\n",
    "        if not validated_df['plotting_mode'].isin(valid_modes).all():\n",
    "            raise ValueError(\"Invalid plotting_mode. It must be either 'transmission' or 'fluorescence'.\")\n",
    "\n",
    "    # Validate that absorption_edge is either 'K', 'L1', 'L2', or 'L3'\n",
    "    if 'absorption_edge' in validated_df.columns:\n",
    "        valid_edges = {'K', 'L1', 'L2', 'L3'}\n",
    "        if not validated_df['absorption_edge'].isin(valid_edges).all():\n",
    "            raise ValueError(\"Invalid absorption_edge. It must be 'K', 'L1', 'L2', or 'L3'.\")\n",
    "\n",
    "    return validated_df\n"
   ]
  },
  {
   "cell_type": "markdown",
   "metadata": {},
   "source": [
    "## pytest to test above functions"
   ]
  },
  {
   "cell_type": "code",
   "execution_count": 132,
   "metadata": {},
   "outputs": [
    {
     "name": "stdout",
     "output_type": "stream",
     "text": [
      "wheel_type:  Standard\n"
     ]
    }
   ],
   "source": [
    "file_name = 'standard_sample_wheel.xlsx'\n",
    "\n",
    "# Read the Excel file with header at row 7 and skip row 8 (example lines)\n",
    "df = pd.read_excel(file_name, header=7, skiprows=[8])\n",
    "\n",
    "# Clean the column names by replacing symbols with underscores\n",
    "df.columns = clean_column_names(df.columns)\n",
    "\n",
    "# Check the wheel type\n",
    "wheel_type = check_wheel_type(file_name)\n",
    "if wheel_type.lower() == 'standard':\n",
    "    num_slots = 12\n",
    "\n",
    "# Select the first `num_slots` rows of data\n",
    "data = df.head(num_slots)\n",
    "\n",
    "# validate the data\n",
    "data = validate_data(data)\n",
    "\n",
    "# Convert the DataFrame to a list of dictionaries\n",
    "list_of_dicts = data.to_dict(orient='records')\n",
    "\n",
    "# Add 'wheel' and 'slot_num' information to each dictionary\n",
    "for idx, item in enumerate(list_of_dicts):\n",
    "    item['wheel'] = wheel_type\n",
    "    item['slot_num'] = idx + 1  # Assuming slot_num starts from 1\n"
   ]
  },
  {
   "cell_type": "code",
   "execution_count": 140,
   "metadata": {},
   "outputs": [
    {
     "name": "stdout",
     "output_type": "stream",
     "text": [
      "[21.0, 2.0, 0.3, 0.05]\n"
     ]
    }
   ],
   "source": [
    "print(data['energy_steps'][11])"
   ]
  }
 ],
 "metadata": {
  "kernelspec": {
   "display_name": "Python 3",
   "language": "python",
   "name": "python3"
  },
  "language_info": {
   "codemirror_mode": {
    "name": "ipython",
    "version": 3
   },
   "file_extension": ".py",
   "mimetype": "text/x-python",
   "name": "python",
   "nbconvert_exporter": "python",
   "pygments_lexer": "ipython3",
   "version": "3.10.8"
  }
 },
 "nbformat": 4,
 "nbformat_minor": 2
}
